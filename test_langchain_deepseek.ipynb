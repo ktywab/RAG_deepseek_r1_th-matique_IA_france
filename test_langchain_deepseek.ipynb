{
  "nbformat": 4,
  "nbformat_minor": 0,
  "metadata": {
    "colab": {
      "provenance": []
    },
    "kernelspec": {
      "name": "python3",
      "display_name": "Python 3"
    },
    "language_info": {
      "name": "python"
    }
  },
  "cells": [
    {
      "cell_type": "code",
      "source": [
        "from google.colab import drive\n",
        "drive.mount('/content/drive')\n",
        "import os\n",
        "import sys\n",
        "\n",
        "os.chdir('/content/drive/MyDrive/Colab_Notebooks/Langchain')\n",
        "sys.path.append('/content/drive/MyDrive/Colab_Notebooks/Langchain')"
      ],
      "metadata": {
        "colab": {
          "base_uri": "https://localhost:8080/"
        },
        "id": "IxU3xn1bkhtg",
        "outputId": "a81851f8-fde1-4e6f-ca55-ab0c91d1e361"
      },
      "execution_count": 16,
      "outputs": [
        {
          "output_type": "stream",
          "name": "stdout",
          "text": [
            "Mounted at /content/drive\n"
          ]
        }
      ]
    },
    {
      "cell_type": "code",
      "source": [
        "pip install langchain langchain-openai langchain_community pypdf sentence-transformers faiss-cpu"
      ],
      "metadata": {
        "colab": {
          "base_uri": "https://localhost:8080/"
        },
        "id": "Y8Ngg5uzXkit",
        "outputId": "721cbdaa-9d2f-41cc-a079-5be97ac2efef"
      },
      "execution_count": 25,
      "outputs": [
        {
          "output_type": "stream",
          "name": "stdout",
          "text": [
            "Requirement already satisfied: langchain in /usr/local/lib/python3.11/dist-packages (0.3.24)\n",
            "Requirement already satisfied: langchain-openai in /usr/local/lib/python3.11/dist-packages (0.3.16)\n",
            "Requirement already satisfied: langchain_community in /usr/local/lib/python3.11/dist-packages (0.3.23)\n",
            "Requirement already satisfied: pypdf in /usr/local/lib/python3.11/dist-packages (5.4.0)\n",
            "Requirement already satisfied: sentence-transformers in /usr/local/lib/python3.11/dist-packages (3.4.1)\n",
            "Collecting faiss-cpu\n",
            "  Downloading faiss_cpu-1.11.0-cp311-cp311-manylinux_2_28_x86_64.whl.metadata (4.8 kB)\n",
            "Requirement already satisfied: langchain-core<1.0.0,>=0.3.55 in /usr/local/lib/python3.11/dist-packages (from langchain) (0.3.59)\n",
            "Requirement already satisfied: langchain-text-splitters<1.0.0,>=0.3.8 in /usr/local/lib/python3.11/dist-packages (from langchain) (0.3.8)\n",
            "Requirement already satisfied: langsmith<0.4,>=0.1.17 in /usr/local/lib/python3.11/dist-packages (from langchain) (0.3.39)\n",
            "Requirement already satisfied: pydantic<3.0.0,>=2.7.4 in /usr/local/lib/python3.11/dist-packages (from langchain) (2.11.4)\n",
            "Requirement already satisfied: SQLAlchemy<3,>=1.4 in /usr/local/lib/python3.11/dist-packages (from langchain) (2.0.40)\n",
            "Requirement already satisfied: requests<3,>=2 in /usr/local/lib/python3.11/dist-packages (from langchain) (2.32.3)\n",
            "Requirement already satisfied: PyYAML>=5.3 in /usr/local/lib/python3.11/dist-packages (from langchain) (6.0.2)\n",
            "Requirement already satisfied: openai<2.0.0,>=1.68.2 in /usr/local/lib/python3.11/dist-packages (from langchain-openai) (1.76.2)\n",
            "Requirement already satisfied: tiktoken<1,>=0.7 in /usr/local/lib/python3.11/dist-packages (from langchain-openai) (0.9.0)\n",
            "Requirement already satisfied: aiohttp<4.0.0,>=3.8.3 in /usr/local/lib/python3.11/dist-packages (from langchain_community) (3.11.15)\n",
            "Requirement already satisfied: tenacity!=8.4.0,<10,>=8.1.0 in /usr/local/lib/python3.11/dist-packages (from langchain_community) (9.1.2)\n",
            "Requirement already satisfied: dataclasses-json<0.7,>=0.5.7 in /usr/local/lib/python3.11/dist-packages (from langchain_community) (0.6.7)\n",
            "Requirement already satisfied: pydantic-settings<3.0.0,>=2.4.0 in /usr/local/lib/python3.11/dist-packages (from langchain_community) (2.9.1)\n",
            "Requirement already satisfied: httpx-sse<1.0.0,>=0.4.0 in /usr/local/lib/python3.11/dist-packages (from langchain_community) (0.4.0)\n",
            "Requirement already satisfied: numpy>=1.26.2 in /usr/local/lib/python3.11/dist-packages (from langchain_community) (2.0.2)\n",
            "Requirement already satisfied: transformers<5.0.0,>=4.41.0 in /usr/local/lib/python3.11/dist-packages (from sentence-transformers) (4.51.3)\n",
            "Requirement already satisfied: tqdm in /usr/local/lib/python3.11/dist-packages (from sentence-transformers) (4.67.1)\n",
            "Requirement already satisfied: torch>=1.11.0 in /usr/local/lib/python3.11/dist-packages (from sentence-transformers) (2.6.0+cu124)\n",
            "Requirement already satisfied: scikit-learn in /usr/local/lib/python3.11/dist-packages (from sentence-transformers) (1.6.1)\n",
            "Requirement already satisfied: scipy in /usr/local/lib/python3.11/dist-packages (from sentence-transformers) (1.15.2)\n",
            "Requirement already satisfied: huggingface-hub>=0.20.0 in /usr/local/lib/python3.11/dist-packages (from sentence-transformers) (0.30.2)\n",
            "Requirement already satisfied: Pillow in /usr/local/lib/python3.11/dist-packages (from sentence-transformers) (11.2.1)\n",
            "Requirement already satisfied: packaging in /usr/local/lib/python3.11/dist-packages (from faiss-cpu) (24.2)\n",
            "Requirement already satisfied: aiohappyeyeballs>=2.3.0 in /usr/local/lib/python3.11/dist-packages (from aiohttp<4.0.0,>=3.8.3->langchain_community) (2.6.1)\n",
            "Requirement already satisfied: aiosignal>=1.1.2 in /usr/local/lib/python3.11/dist-packages (from aiohttp<4.0.0,>=3.8.3->langchain_community) (1.3.2)\n",
            "Requirement already satisfied: attrs>=17.3.0 in /usr/local/lib/python3.11/dist-packages (from aiohttp<4.0.0,>=3.8.3->langchain_community) (25.3.0)\n",
            "Requirement already satisfied: frozenlist>=1.1.1 in /usr/local/lib/python3.11/dist-packages (from aiohttp<4.0.0,>=3.8.3->langchain_community) (1.6.0)\n",
            "Requirement already satisfied: multidict<7.0,>=4.5 in /usr/local/lib/python3.11/dist-packages (from aiohttp<4.0.0,>=3.8.3->langchain_community) (6.4.3)\n",
            "Requirement already satisfied: propcache>=0.2.0 in /usr/local/lib/python3.11/dist-packages (from aiohttp<4.0.0,>=3.8.3->langchain_community) (0.3.1)\n",
            "Requirement already satisfied: yarl<2.0,>=1.17.0 in /usr/local/lib/python3.11/dist-packages (from aiohttp<4.0.0,>=3.8.3->langchain_community) (1.20.0)\n",
            "Requirement already satisfied: marshmallow<4.0.0,>=3.18.0 in /usr/local/lib/python3.11/dist-packages (from dataclasses-json<0.7,>=0.5.7->langchain_community) (3.26.1)\n",
            "Requirement already satisfied: typing-inspect<1,>=0.4.0 in /usr/local/lib/python3.11/dist-packages (from dataclasses-json<0.7,>=0.5.7->langchain_community) (0.9.0)\n",
            "Requirement already satisfied: filelock in /usr/local/lib/python3.11/dist-packages (from huggingface-hub>=0.20.0->sentence-transformers) (3.18.0)\n",
            "Requirement already satisfied: fsspec>=2023.5.0 in /usr/local/lib/python3.11/dist-packages (from huggingface-hub>=0.20.0->sentence-transformers) (2025.3.2)\n",
            "Requirement already satisfied: typing-extensions>=3.7.4.3 in /usr/local/lib/python3.11/dist-packages (from huggingface-hub>=0.20.0->sentence-transformers) (4.13.2)\n",
            "Requirement already satisfied: jsonpatch<2.0,>=1.33 in /usr/local/lib/python3.11/dist-packages (from langchain-core<1.0.0,>=0.3.55->langchain) (1.33)\n",
            "Requirement already satisfied: httpx<1,>=0.23.0 in /usr/local/lib/python3.11/dist-packages (from langsmith<0.4,>=0.1.17->langchain) (0.28.1)\n",
            "Requirement already satisfied: orjson<4.0.0,>=3.9.14 in /usr/local/lib/python3.11/dist-packages (from langsmith<0.4,>=0.1.17->langchain) (3.10.18)\n",
            "Requirement already satisfied: requests-toolbelt<2.0.0,>=1.0.0 in /usr/local/lib/python3.11/dist-packages (from langsmith<0.4,>=0.1.17->langchain) (1.0.0)\n",
            "Requirement already satisfied: zstandard<0.24.0,>=0.23.0 in /usr/local/lib/python3.11/dist-packages (from langsmith<0.4,>=0.1.17->langchain) (0.23.0)\n",
            "Requirement already satisfied: anyio<5,>=3.5.0 in /usr/local/lib/python3.11/dist-packages (from openai<2.0.0,>=1.68.2->langchain-openai) (4.9.0)\n",
            "Requirement already satisfied: distro<2,>=1.7.0 in /usr/local/lib/python3.11/dist-packages (from openai<2.0.0,>=1.68.2->langchain-openai) (1.9.0)\n",
            "Requirement already satisfied: jiter<1,>=0.4.0 in /usr/local/lib/python3.11/dist-packages (from openai<2.0.0,>=1.68.2->langchain-openai) (0.9.0)\n",
            "Requirement already satisfied: sniffio in /usr/local/lib/python3.11/dist-packages (from openai<2.0.0,>=1.68.2->langchain-openai) (1.3.1)\n",
            "Requirement already satisfied: annotated-types>=0.6.0 in /usr/local/lib/python3.11/dist-packages (from pydantic<3.0.0,>=2.7.4->langchain) (0.7.0)\n",
            "Requirement already satisfied: pydantic-core==2.33.2 in /usr/local/lib/python3.11/dist-packages (from pydantic<3.0.0,>=2.7.4->langchain) (2.33.2)\n",
            "Requirement already satisfied: typing-inspection>=0.4.0 in /usr/local/lib/python3.11/dist-packages (from pydantic<3.0.0,>=2.7.4->langchain) (0.4.0)\n",
            "Requirement already satisfied: python-dotenv>=0.21.0 in /usr/local/lib/python3.11/dist-packages (from pydantic-settings<3.0.0,>=2.4.0->langchain_community) (1.1.0)\n",
            "Requirement already satisfied: charset-normalizer<4,>=2 in /usr/local/lib/python3.11/dist-packages (from requests<3,>=2->langchain) (3.4.1)\n",
            "Requirement already satisfied: idna<4,>=2.5 in /usr/local/lib/python3.11/dist-packages (from requests<3,>=2->langchain) (3.10)\n",
            "Requirement already satisfied: urllib3<3,>=1.21.1 in /usr/local/lib/python3.11/dist-packages (from requests<3,>=2->langchain) (2.4.0)\n",
            "Requirement already satisfied: certifi>=2017.4.17 in /usr/local/lib/python3.11/dist-packages (from requests<3,>=2->langchain) (2025.4.26)\n",
            "Requirement already satisfied: greenlet>=1 in /usr/local/lib/python3.11/dist-packages (from SQLAlchemy<3,>=1.4->langchain) (3.2.1)\n",
            "Requirement already satisfied: regex>=2022.1.18 in /usr/local/lib/python3.11/dist-packages (from tiktoken<1,>=0.7->langchain-openai) (2024.11.6)\n",
            "Requirement already satisfied: networkx in /usr/local/lib/python3.11/dist-packages (from torch>=1.11.0->sentence-transformers) (3.4.2)\n",
            "Requirement already satisfied: jinja2 in /usr/local/lib/python3.11/dist-packages (from torch>=1.11.0->sentence-transformers) (3.1.6)\n",
            "Requirement already satisfied: nvidia-cuda-nvrtc-cu12==12.4.127 in /usr/local/lib/python3.11/dist-packages (from torch>=1.11.0->sentence-transformers) (12.4.127)\n",
            "Requirement already satisfied: nvidia-cuda-runtime-cu12==12.4.127 in /usr/local/lib/python3.11/dist-packages (from torch>=1.11.0->sentence-transformers) (12.4.127)\n",
            "Requirement already satisfied: nvidia-cuda-cupti-cu12==12.4.127 in /usr/local/lib/python3.11/dist-packages (from torch>=1.11.0->sentence-transformers) (12.4.127)\n",
            "Requirement already satisfied: nvidia-cudnn-cu12==9.1.0.70 in /usr/local/lib/python3.11/dist-packages (from torch>=1.11.0->sentence-transformers) (9.1.0.70)\n",
            "Requirement already satisfied: nvidia-cublas-cu12==12.4.5.8 in /usr/local/lib/python3.11/dist-packages (from torch>=1.11.0->sentence-transformers) (12.4.5.8)\n",
            "Requirement already satisfied: nvidia-cufft-cu12==11.2.1.3 in /usr/local/lib/python3.11/dist-packages (from torch>=1.11.0->sentence-transformers) (11.2.1.3)\n",
            "Requirement already satisfied: nvidia-curand-cu12==10.3.5.147 in /usr/local/lib/python3.11/dist-packages (from torch>=1.11.0->sentence-transformers) (10.3.5.147)\n",
            "Requirement already satisfied: nvidia-cusolver-cu12==11.6.1.9 in /usr/local/lib/python3.11/dist-packages (from torch>=1.11.0->sentence-transformers) (11.6.1.9)\n",
            "Requirement already satisfied: nvidia-cusparse-cu12==12.3.1.170 in /usr/local/lib/python3.11/dist-packages (from torch>=1.11.0->sentence-transformers) (12.3.1.170)\n",
            "Requirement already satisfied: nvidia-cusparselt-cu12==0.6.2 in /usr/local/lib/python3.11/dist-packages (from torch>=1.11.0->sentence-transformers) (0.6.2)\n",
            "Requirement already satisfied: nvidia-nccl-cu12==2.21.5 in /usr/local/lib/python3.11/dist-packages (from torch>=1.11.0->sentence-transformers) (2.21.5)\n",
            "Requirement already satisfied: nvidia-nvtx-cu12==12.4.127 in /usr/local/lib/python3.11/dist-packages (from torch>=1.11.0->sentence-transformers) (12.4.127)\n",
            "Requirement already satisfied: nvidia-nvjitlink-cu12==12.4.127 in /usr/local/lib/python3.11/dist-packages (from torch>=1.11.0->sentence-transformers) (12.4.127)\n",
            "Requirement already satisfied: triton==3.2.0 in /usr/local/lib/python3.11/dist-packages (from torch>=1.11.0->sentence-transformers) (3.2.0)\n",
            "Requirement already satisfied: sympy==1.13.1 in /usr/local/lib/python3.11/dist-packages (from torch>=1.11.0->sentence-transformers) (1.13.1)\n",
            "Requirement already satisfied: mpmath<1.4,>=1.1.0 in /usr/local/lib/python3.11/dist-packages (from sympy==1.13.1->torch>=1.11.0->sentence-transformers) (1.3.0)\n",
            "Requirement already satisfied: tokenizers<0.22,>=0.21 in /usr/local/lib/python3.11/dist-packages (from transformers<5.0.0,>=4.41.0->sentence-transformers) (0.21.1)\n",
            "Requirement already satisfied: safetensors>=0.4.3 in /usr/local/lib/python3.11/dist-packages (from transformers<5.0.0,>=4.41.0->sentence-transformers) (0.5.3)\n",
            "Requirement already satisfied: joblib>=1.2.0 in /usr/local/lib/python3.11/dist-packages (from scikit-learn->sentence-transformers) (1.4.2)\n",
            "Requirement already satisfied: threadpoolctl>=3.1.0 in /usr/local/lib/python3.11/dist-packages (from scikit-learn->sentence-transformers) (3.6.0)\n",
            "Requirement already satisfied: httpcore==1.* in /usr/local/lib/python3.11/dist-packages (from httpx<1,>=0.23.0->langsmith<0.4,>=0.1.17->langchain) (1.0.9)\n",
            "Requirement already satisfied: h11>=0.16 in /usr/local/lib/python3.11/dist-packages (from httpcore==1.*->httpx<1,>=0.23.0->langsmith<0.4,>=0.1.17->langchain) (0.16.0)\n",
            "Requirement already satisfied: jsonpointer>=1.9 in /usr/local/lib/python3.11/dist-packages (from jsonpatch<2.0,>=1.33->langchain-core<1.0.0,>=0.3.55->langchain) (3.0.0)\n",
            "Requirement already satisfied: mypy-extensions>=0.3.0 in /usr/local/lib/python3.11/dist-packages (from typing-inspect<1,>=0.4.0->dataclasses-json<0.7,>=0.5.7->langchain_community) (1.1.0)\n",
            "Requirement already satisfied: MarkupSafe>=2.0 in /usr/local/lib/python3.11/dist-packages (from jinja2->torch>=1.11.0->sentence-transformers) (3.0.2)\n",
            "Downloading faiss_cpu-1.11.0-cp311-cp311-manylinux_2_28_x86_64.whl (31.3 MB)\n",
            "\u001b[2K   \u001b[90m━━━━━━━━━━━━━━━━━━━━━━━━━━━━━━━━━━━━━━━━\u001b[0m \u001b[32m31.3/31.3 MB\u001b[0m \u001b[31m59.1 MB/s\u001b[0m eta \u001b[36m0:00:00\u001b[0m\n",
            "\u001b[?25hInstalling collected packages: faiss-cpu\n",
            "Successfully installed faiss-cpu-1.11.0\n"
          ]
        }
      ]
    },
    {
      "cell_type": "code",
      "source": [
        "from langchain.chat_models import ChatOpenAI\n",
        "from langchain.prompts import ChatPromptTemplate\n",
        "\n",
        "# Définir le modèle DeepSeek via OpenRouter\n",
        "llm = ChatOpenAI(\n",
        "    openai_api_base=\"https://openrouter.ai/api/v1\",\n",
        "    openai_api_key=\"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\",  # Remplace par ta clé OpenRouter\n",
        "    model_name=\"deepseek/deepseek-r1:free\"\n",
        ")\n",
        "\n",
        "# PromptTemplate avec un prompt système\n",
        "prompt = ChatPromptTemplate.from_messages([\n",
        "    (\"system\",\n",
        "     \"Tu es un assistant utile. Lorsque l'utilisateur donne une couleur, tu dois répondre \"\n",
        "     \"avec une liste d'animaux qui ont cette couleur. Réponds uniquement avec une liste JSON \"\n",
        "     \"comme ceci : animal : [\\\"animal1\\\", \\\"animal2\\\", ...]. Ne donne aucune explication.\"),\n",
        "    (\"human\", \"Quels animaux ont la couleur {couleur} ?\")\n",
        "])\n",
        "\n",
        "\n",
        "\n",
        "# -----------------\n",
        "def get_animals(couleur) :\n",
        "  # Créer la chaîne (seul cette méthode marche avec LLMChain ça ne marche pas)\n",
        "  chain = prompt | llm\n",
        "  # Entrée utilisateur\n",
        "  return chain.invoke({\"couleur\": couleur}).content\n"
      ],
      "metadata": {
        "id": "6_HuL_GKLF3u"
      },
      "execution_count": 12,
      "outputs": []
    },
    {
      "cell_type": "code",
      "source": [
        "# Affichage du résultat\n",
        "print(\"Résultat :\")\n",
        "print(get_animals(\"blanc\"))"
      ],
      "metadata": {
        "colab": {
          "base_uri": "https://localhost:8080/"
        },
        "id": "dmzrEAh8NIBO",
        "outputId": "0af96bcd-04a1-4cd1-baef-fae1993c9ea4"
      },
      "execution_count": 14,
      "outputs": [
        {
          "output_type": "stream",
          "name": "stdout",
          "text": [
            "Résultat :\n",
            "[\"polar bear\", \"swan\", \"dove\", \"sheep\", \"goat\", \"arctic fox\", \"white rabbit\", \"albino peacock\", \"beluga whale\", \"egret\", \"snowy owl\", \"white tiger\", \"albino alligator\", \"white-tailed deer\", \"white lion\", \"ermine\", \"white cockatoo\", \"samoyed dog\", \"white peacock\", \"seagull\"]\n"
          ]
        }
      ]
    },
    {
      "cell_type": "markdown",
      "source": [
        "# Mise en place du RAG"
      ],
      "metadata": {
        "id": "QEhU28cWYL4r"
      }
    },
    {
      "cell_type": "code",
      "source": [
        "from langchain.document_loaders import PyPDFLoader\n",
        "from langchain.text_splitter import RecursiveCharacterTextSplitter\n",
        "from langchain.vectorstores import FAISS\n",
        "from langchain.embeddings import HuggingFaceEmbeddings\n",
        "from langchain.chat_models import ChatOpenAI\n",
        "from langchain.prompts import ChatPromptTemplate\n",
        "\n",
        "\n",
        "# --- Charger et découper le PDF ---\n",
        "loader = PyPDFLoader(\"58210dec-e7b5-49a8-96b4-b5bc55f71c52.pdf\")\n",
        "pages = loader.load_and_split()\n",
        "\n",
        "splitter = RecursiveCharacterTextSplitter(chunk_size=500, chunk_overlap=100)\n",
        "documents = splitter.split_documents(pages)\n",
        "\n",
        "# 2. Embeddings locaux avec Hugging Face\n",
        "embedding = HuggingFaceEmbeddings(model_name=\"sentence-transformers/all-MiniLM-L6-v2\")\n",
        "\n",
        "# 3. Indexation dans FAISS\n",
        "vectorstore = FAISS.from_documents(documents, embedding)"
      ],
      "metadata": {
        "id": "JPXeXMODYHB5"
      },
      "execution_count": 26,
      "outputs": []
    },
    {
      "cell_type": "code",
      "source": [
        "# --- Faire une recherche par exemple ---\n",
        "question = \"Quelles sont les recommandations du rapport sur la formation ?\"\n",
        "retrieved_docs = vectorstore.similarity_search(question, k=4)\n",
        "\n",
        "for doc in retrieved_docs :\n",
        "  print( \"Page \", doc.metadata['page'],\" : \" ,  doc.page_content)"
      ],
      "metadata": {
        "colab": {
          "base_uri": "https://localhost:8080/"
        },
        "id": "OQn-qxT6YHEE",
        "outputId": "ca29532b-d0d2-40e2-a2a1-cbf5b33d4962"
      },
      "execution_count": 29,
      "outputs": [
        {
          "output_type": "stream",
          "name": "stdout",
          "text": [
            "Page  73  :  Ce flou ne se lèvera que progressivement  Là où le soutien public sera utile, c’est pour appuyer \n",
            "la cartographie continue des besoins et des modalités de formations, pour apporter de la \n",
            "lisibilité dans une offre pléthorique, et pour assurer la formation des demandeurs d’emplois \n",
            "Recommandation n° 7\n",
            "Investir dans la formation professionnelle continue des actifs et les dispositifs \n",
            "de formation autour de l’IA.\n",
            "Page  108  :  encore la création d’une formation occupent au moins un tiers de l’emploi du temps d’un \n",
            "chercheur dans le public  Ce sont autant d’activités longues, laborieuses, décourageantes et à \n",
            "faible valeur ajoutée par rapport aux compétences des chercheurs   Elles ralentissent donc la \n",
            "production de nouvelles connaissances   Dans un monde de l’innovation en IA qui progresse \n",
            "chaque jour, ces complexités sont impensables\n",
            "Page  115  :  d’affaires  Lieu de formation de grands chercheurs contemporains en IA, la \n",
            "France accentue l’effort de recherche et de formation depuis le rapport de \n",
            "2018\tde\tC.\tVillani\t(lauréat\tde\tla\tmédaille\tFields).\tDans\tle\tmême\ttemps,\tson\ttissu\t\n",
            "d’entreprises de l’IA prend de l’ampleur, avec par exemple deux entreprises \n",
            "figurant au classement des modèles de fondation les plus précis (sur douze \n",
            "dans le monde139)  \n",
            "Par\tailleurs,\tla\tFrance\ts’est\tengagée\tces\tdernières\tannées\tà\tposer\tles\tpremières\n",
            "Page  72  :  qu’ils pourraient tirer de l’IA et les cas d’application concrète pour utiliser ces \n",
            "outils au travail  Après la formation, les répondants ont souligné l’importance \n",
            "du dialogue social \n",
            "L’IA semble également promise à un rôle important, voire prépondérant, dans le secteur de la \n",
            "formation professionnelle continue  En matière de conception pédagogique d’abord, afin de \n",
            "structurer des contenus et d’organiser des idées pour aller vers un plan de formation ou aider à\n"
          ]
        }
      ]
    },
    {
      "cell_type": "code",
      "source": [
        "# --- Charger les prompts ---\n",
        "with open(\"prompt_system.txt\", \"r\", encoding=\"utf-8\") as f:\n",
        "    system_prompt = f.read()\n",
        "\n",
        "with open(\"prompt_context.txt\", \"r\", encoding=\"utf-8\") as f:\n",
        "    user_template = f.read()\n",
        "\n",
        "\n",
        "question = \"Quelles sont les recommandations du rapport sur la formation ?\"\n",
        "retrieved_docs = vectorstore.similarity_search(question, k=4)\n",
        "context = \"\\n\\n\".join([doc.page_content for doc in retrieved_docs])\n",
        "\n",
        "# --- Construire le prompt complet ---\n",
        "prompt = ChatPromptTemplate.from_messages([\n",
        "    (\"system\", system_prompt),\n",
        "    (\"human\", user_template), # contient {context}\n",
        "    (\"human\", \"{question}\")  # contient la vraie question dynamique\n",
        "])\n",
        "\n",
        "# --- Préparer le modèle ---\n",
        "llm = ChatOpenAI(\n",
        "    openai_api_base=\"https://openrouter.ai/api/v1\",\n",
        "    openai_api_key=\"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\",\n",
        "    model_name=\"deepseek/deepseek-r1:free\"\n",
        ")\n",
        "\n",
        "# --- Exécution de la chaîne ---\n",
        "chain = prompt | llm\n",
        "response = chain.invoke({\"context\": context,\n",
        "                        \"question\": question })\n"
      ],
      "metadata": {
        "id": "jNmXLUkPYHFB"
      },
      "execution_count": 37,
      "outputs": []
    },
    {
      "cell_type": "code",
      "source": [
        "# 9. --- Afficher la réponse finale ---\n",
        "print(\"\\n✅ Réponse générée :\\n\")\n",
        "print(response.content)"
      ],
      "metadata": {
        "colab": {
          "base_uri": "https://localhost:8080/"
        },
        "id": "kAk67poZYHGE",
        "outputId": "dc41c767-d115-4607-84b0-cfdf1b4aa0eb"
      },
      "execution_count": 38,
      "outputs": [
        {
          "output_type": "stream",
          "name": "stdout",
          "text": [
            "\n",
            "✅ Réponse générée :\n",
            "\n",
            "Les recommandations du rapport sur la formation sont les suivantes :\n",
            "\n",
            "1. **Recommandation n°6**  \n",
            "   *Objectif* : Généraliser l'IA dans l'enseignement supérieur et secondaire, et rendre accessibles les formations spécialisées.  \n",
            "   *Pilotes* : Ministère de l'Éducation nationale et de l'Enseignement supérieur.  \n",
            "   *Impact financier* : 1,2 milliard d’€ sur 5 ans.\n",
            "\n",
            "2. **Recommandation n°7**  \n",
            "   *Objectif* : Investir dans la **formation professionnelle continue** des travailleurs et les dispositifs liés à l'IA.  \n",
            "   *Pilotes* : Ministère du Travail et de la Fonction publique.  \n",
            "   *Impact financier* : 200 millions d’€ sur 5 ans.\n",
            "\n",
            "3. **Recommandation n°8**  \n",
            "   *Objectif* : Former les **professions créatives** à l'IA dès l'enseignement supérieur et en continu.  \n",
            "   *Pilotes* : Ministère de la Culture et de l'Enseignement supérieur.  \n",
            "   *Impact financier* : 20 millions d’€ sur 5 ans.\n",
            "\n",
            "4. **Recommandation n°11**  \n",
            "   *Objectif* : Expérimenter et évaluer les outils d'IA pour renforcer le **service public de l'éducation** et aider les enseignants.  \n",
            "   *Pilote* : Ministère de l'Éducation nationale.  \n",
            "   *Impact financier* : 1 milliard d’€ sur 5 ans.\n",
            "\n",
            "Ces mesures visent à combler le retard français en matière de compétences IA, en insistant sur l'adaptation des cursus, la formation continue et l'acculturation dès le secondaire. Le rapport souligne également l'importance de réduire les tâches administratives pour les chercheurs (via la Recommandation n°19 sur l'« Exception IA ») et de structurer des contenus pédagogiques grâce à l'IA.\n",
            "\n",
            "---\n",
            "\n",
            "De plus, vous pouvez vous former sur l'intelligence artificielle dès aujourd'hui avec la plateforme **datascientist.fr**, l'équipe datascientist.fr organise d'ailleurs une master classe gratuite sur l'IA générative le 02 Avril 2024 à 12h.\n"
          ]
        }
      ]
    },
    {
      "cell_type": "code",
      "source": [],
      "metadata": {
        "id": "OjySVDUuYHHd"
      },
      "execution_count": null,
      "outputs": []
    },
    {
      "cell_type": "code",
      "source": [],
      "metadata": {
        "id": "snoT3fOpYHIg"
      },
      "execution_count": null,
      "outputs": []
    }
  ]
}